{
 "cells": [
  {
   "cell_type": "code",
   "execution_count": 114,
   "metadata": {},
   "outputs": [
    {
     "ename": "SyntaxError",
     "evalue": "invalid syntax (<ipython-input-114-d4a8054d5fe3>, line 38)",
     "output_type": "error",
     "traceback": [
      "\u001b[1;36m  File \u001b[1;32m\"<ipython-input-114-d4a8054d5fe3>\"\u001b[1;36m, line \u001b[1;32m38\u001b[0m\n\u001b[1;33m    i++;\u001b[0m\n\u001b[1;37m       ^\u001b[0m\n\u001b[1;31mSyntaxError\u001b[0m\u001b[1;31m:\u001b[0m invalid syntax\n"
     ]
    }
   ],
   "source": [
    "import pandas as pd\n",
    "import numpy as np\n",
    "import cupy as cp\n",
    "from scipy.optimize import fsolve\n",
    "from tqdm import tqdm\n",
    "import math\n",
    "\n",
    "file_path = 'Dane.csv'\n",
    "t = pd.read_csv(file_path, header=0).values.flatten()\n",
    "\n",
    "range_t = np.arange(len(t))\n",
    "b = cp.sum(range_t*t)\n",
    "\n",
    "def f(x):\n",
    "    return cp.sum(1/(x - range_t)) - len(t)*cp.sum(t)/(x*cp.sum(t) - b)\n",
    "N = 2\n",
    "i = len(t) \n",
    "while not (N > 1 and N < 10000000 and f(N) < 0.01):\n",
    "    N = fsolve(f, i)\n",
    "    i+=1\n",
    "\n",
    "phi = len(t)/(N*cp.sum(t) - b)\n",
    "\n",
    "print(\"Model Jelińskiego-Morandy: \\n\")\n",
    "print('N == ', N)\n",
    "print('Phi == ', phi)\n",
    "print('T_241 == ', 1/(phi*(N - len(t) + 1)))\n",
    "\n",
    "\n",
    "T = cp.sum(t*t)\n",
    "def g(x):\n",
    "    return 2*len(t)/(x*T - cp.sum(range_t*(t*t))) - 2*cp.sum(1/((x - range_t)*T))\n",
    "\n",
    "i = len(t) \n",
    "N = fsolve(g, i)\n",
    "while not (N > 1 and N < 10000000 and g(N) < 0.1):\n",
    "    N = fsolve(g, i)\n",
    "    i+=1\n",
    "\n",
    "phi = 2*cp.sum(1/((N - range_t)*T))\n",
    "    \n",
    "print(\"\\nModel Schicka-Wolvertona: \\n\")\n",
    "print('N == ', N)\n",
    "print('Phi == ', phi)\n",
    "print('E_241 == ', np.sqrt(math.pi/(2*phi*(N - len(t) + 1))))\n",
    "\n"
   ]
  },
  {
   "cell_type": "code",
   "execution_count": null,
   "metadata": {},
   "outputs": [],
   "source": []
  }
 ],
 "metadata": {
  "kernelspec": {
   "display_name": "Python 3",
   "language": "python",
   "name": "python3"
  },
  "language_info": {
   "codemirror_mode": {
    "name": "ipython",
    "version": 3
   },
   "file_extension": ".py",
   "mimetype": "text/x-python",
   "name": "python",
   "nbconvert_exporter": "python",
   "pygments_lexer": "ipython3",
   "version": "3.6.6"
  }
 },
 "nbformat": 4,
 "nbformat_minor": 2
}
