{
 "cells": [
  {
   "cell_type": "code",
   "execution_count": 52,
   "metadata": {},
   "outputs": [],
   "source": [
    "import pandas as pd\n",
    "import numpy as np\n",
    "import cupy as cp\n",
    "from scipy.optimize import fsolve\n",
    "import math\n",
    "import time\n"
   ]
  },
  {
   "cell_type": "code",
   "execution_count": 65,
   "metadata": {},
   "outputs": [
    {
     "name": "stdout",
     "output_type": "stream",
     "text": [
      "0.0019965171813964844\n"
     ]
    }
   ],
   "source": [
    "file_path = 'Dane.csv'\n",
    "t = pd.read_csv(file_path, header=0).values.flatten()\n",
    "\n",
    "start = time.time()\n",
    "alpha = 0.0001\n",
    "range_t = np.arange(len(t))\n",
    "b = cp.sum(range_t*t)\n",
    "\n",
    "def j_m(x):\n",
    "    return cp.sum(1/(x - range_t)) - len(t)*cp.sum(t)/(x*cp.sum(t) - b)\n",
    "\n",
    "i = len(t) \n",
    "N_jm  = fsolve(j_m, i, xtol=alpha)\n",
    "while not (N_jm  > len(t) and N_jm  < 1000):\n",
    "    N_jm  = fsolve(j_m, i, xtol=alpha)\n",
    "    i+=1\n",
    "\n",
    "phi_jm = len(t)/(N_jm*cp.sum(t) - b)\n",
    "T_241_jm = 1/(phi_jm*(N_jm - len(t) + 1))\n",
    "\n",
    "print(time.time() - start)"
   ]
  },
  {
   "cell_type": "code",
   "execution_count": 72,
   "metadata": {},
   "outputs": [
    {
     "name": "stdout",
     "output_type": "stream",
     "text": [
      "0.00299072265625\n"
     ]
    }
   ],
   "source": [
    "start = time.time()\n",
    "\n",
    "T = cp.sum(t*t)\n",
    "def s_w(x):\n",
    "    return 2*len(t)/(x*T - cp.sum(range_t*(t*t))) - 2*cp.sum(1/((x - range_t)*T))\n",
    "\n",
    "i = len(t) \n",
    "N_sw = fsolve(s_w, i, xtol=alpha)\n",
    "while not (N_sw > len(t) and N_sw < 1000):\n",
    "    N_sw = fsolve(s_w, i, xtol=alpha)\n",
    "    i+=1\n",
    "\n",
    "phi_sw = 2*cp.sum(1/((N_sw - range_t)*T))\n",
    "T_241_sw = np.sqrt(math.pi/(2*phi_sw*(N_sw - len(t) + 1)))   \n",
    "\n",
    "print(time.time() - start)"
   ]
  },
  {
   "cell_type": "code",
   "execution_count": 73,
   "metadata": {},
   "outputs": [
    {
     "name": "stdout",
     "output_type": "stream",
     "text": [
      "Model Jelińskiego-Morandy: \n",
      "\n",
      "N ==  [415.1233913]\n",
      "Phi ==  [1.57495347e-06]\n",
      "T_241 ==  [3605.08270606]\n",
      "\n",
      "Model Schicka-Wolvertona: \n",
      "\n",
      "N ==  [299.79]\n",
      "Phi ==  2.4185562153013177e-09\n",
      "T_241 ==  [3268.63]\n"
     ]
    }
   ],
   "source": [
    "np.set_printoptions(precision=8)\n",
    "print(\"Model Jelińskiego-Morandy: \\n\")\n",
    "print('N == ', N_jm)\n",
    "print('Phi == ', phi_jm)\n",
    "print('T_241 == ', T_241_jm)\n",
    "np.set_printoptions(precision=2)\n",
    "print(\"\\nModel Schicka-Wolvertona: \\n\")\n",
    "print('N == ', N_sw)\n",
    "print('Phi == ', phi_sw)\n",
    "print('T_241 == ', T_241_sw)"
   ]
  },
  {
   "cell_type": "code",
   "execution_count": 36,
   "metadata": {},
   "outputs": [
    {
     "data": {
      "text/plain": [
       "1574447050.261582"
      ]
     },
     "execution_count": 36,
     "metadata": {},
     "output_type": "execute_result"
    }
   ],
   "source": []
  },
  {
   "cell_type": "code",
   "execution_count": null,
   "metadata": {},
   "outputs": [],
   "source": []
  }
 ],
 "metadata": {
  "kernelspec": {
   "display_name": "Python 3",
   "language": "python",
   "name": "python3"
  },
  "language_info": {
   "codemirror_mode": {
    "name": "ipython",
    "version": 3
   },
   "file_extension": ".py",
   "mimetype": "text/x-python",
   "name": "python",
   "nbconvert_exporter": "python",
   "pygments_lexer": "ipython3",
   "version": "3.6.6"
  }
 },
 "nbformat": 4,
 "nbformat_minor": 2
}
